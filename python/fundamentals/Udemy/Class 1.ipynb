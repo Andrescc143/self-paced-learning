{
 "cells": [
  {
   "cell_type": "markdown",
   "metadata": {},
   "source": [
    "# INTRODUCCIÓN\n",
    "\n"
   ]
  },
  {
   "cell_type": "markdown",
   "metadata": {},
   "source": [
    "## Jupyter\n",
    "\n",
    "Es un entorno de trabajo ideal para el campo académico ya que nos permite manejar un óptimo flujo de trabajo. Está compuesto por celdas en cada una de la cuales podemos digitar cuantas lineas de código deseemos. Existen en este entorno dos tipo de celdas:\n",
    "   - Tipo código: Caracterizada por tener en la parte izquierda de la celda: In [ ]:\n",
    "   - Tipo markdown: Caracterizada por la ausencia de la expresión presente en la celda tipo código.\n",
    "   \n",
    "Por defecto jupyter crea las celdas de tipo código, sin embargo, podemos convertirla a tipo markdown por dos medios:\n",
    "   - Pulsando la combinación de teclas: **Esc + m**\n",
    "   - Usando la herramienta en la parte superior: Damos clic en la pestaña *Cell*, luego en *Cell Type* y seleccionamos el tipo deseado\n",
    "   \n",
    "Las instrucciones o lineas de código ingresadas en cada celda pueden ser ejecutadas pulsando ***Shift + Enter***\n",
    "\n",
    "**Nota:** Podemos identificar una celda en ejecución gracias a la expresión que posee en el extremo izquierdo, esta será: In [*]. Los resultados o valores de salida de la celda en ejecución no podrán visualizarse sino hasta que el asterisco entre corchetes desaparezca."
   ]
  },
  {
   "cell_type": "markdown",
   "metadata": {},
   "source": [
    "## Tipos de Datos\n",
    "\n",
    "- Numéricos\n",
    "- String\n",
    "- Booleanos"
   ]
  },
  {
   "cell_type": "markdown",
   "metadata": {},
   "source": [
    "## Números:\n",
    "\n",
    "Los aprendidos con la formación académica. Algunos de ellos son:\n",
    "\n",
    "- Enteros\n",
    "- Flotantes\n",
    "- Racionales\n",
    "- Complejos"
   ]
  },
  {
   "cell_type": "code",
   "execution_count": 1,
   "metadata": {},
   "outputs": [
    {
     "data": {
      "text/plain": [
       "8"
      ]
     },
     "execution_count": 1,
     "metadata": {},
     "output_type": "execute_result"
    }
   ],
   "source": [
    "#Número entero\n",
    "8"
   ]
  },
  {
   "cell_type": "code",
   "execution_count": 2,
   "metadata": {},
   "outputs": [
    {
     "data": {
      "text/plain": [
       "5.2"
      ]
     },
     "execution_count": 2,
     "metadata": {},
     "output_type": "execute_result"
    }
   ],
   "source": [
    "#Número decimal\n",
    "5.2"
   ]
  },
  {
   "cell_type": "code",
   "execution_count": 3,
   "metadata": {},
   "outputs": [
    {
     "data": {
      "text/plain": [
       "1.6"
      ]
     },
     "execution_count": 3,
     "metadata": {},
     "output_type": "execute_result"
    }
   ],
   "source": [
    "#Número racional\n",
    "8/5"
   ]
  },
  {
   "cell_type": "code",
   "execution_count": 4,
   "metadata": {},
   "outputs": [
    {
     "data": {
      "text/plain": [
       "(3+5j)"
      ]
     },
     "execution_count": 4,
     "metadata": {},
     "output_type": "execute_result"
    }
   ],
   "source": [
    "#Número complejo\n",
    "3 + 5j"
   ]
  },
  {
   "cell_type": "markdown",
   "metadata": {},
   "source": [
    "## Operadores\n",
    "\n",
    "Existen de 3 tipos\n",
    "\n",
    "- **Aritméticos:** Suma (+), Resta (-), División (/), Multiplicación (*), etc\n",
    "- **Relacionales:** Se usan para crear comparaciones entre dos números y/o expresiones: Mayor que (>), menor que (<), igual que (==), mayor o igual que (>=), menor o igual que (<=). Su resultado será un valor Booleano (True ó False)\n",
    "- **Lógicos:** Sirven para evaluar la veracidad de las expresiones. Se fundamentan en la lógica booleana: and, or, not. Su resultado será un valor booleano (True, False)\n",
    "   - AND: Dará como resultado True sólo si **TODAS** las expresiones que evalúa son verdaderas (True and True = True)\n",
    "   - OR: Dará como resultado True cuando **ALGUNA** de las expresiones evaluadas sea True (True or False = True)\n",
    "   - NOT: Invertirá el valor de la expresión que acompaña (not True = False)"
   ]
  },
  {
   "cell_type": "code",
   "execution_count": 5,
   "metadata": {},
   "outputs": [
    {
     "name": "stdout",
     "output_type": "stream",
     "text": [
      "17\n",
      "-1\n",
      "2.0\n",
      "72\n",
      "64\n",
      "0\n"
     ]
    }
   ],
   "source": [
    "#Operadores aritméticos\n",
    "print(8 + 9)\n",
    "print(8 - 9)\n",
    "print(8 / 4)\n",
    "print(8 * 9)\n",
    "print(8 ** 2) #Potenciación\n",
    "print(8 % 8) #Residuo"
   ]
  },
  {
   "cell_type": "code",
   "execution_count": 6,
   "metadata": {},
   "outputs": [
    {
     "name": "stdout",
     "output_type": "stream",
     "text": [
      "False\n",
      "True\n",
      "False\n",
      "True\n",
      "True\n"
     ]
    }
   ],
   "source": [
    "#Operadores Relacionales\n",
    "print(8 > 9)\n",
    "print(8 < 9)\n",
    "print(8 == 9)\n",
    "print(18 >= 9)\n",
    "print(8 <= 9)"
   ]
  },
  {
   "cell_type": "code",
   "execution_count": 7,
   "metadata": {},
   "outputs": [
    {
     "name": "stdout",
     "output_type": "stream",
     "text": [
      "True\n",
      "True\n",
      "False\n"
     ]
    }
   ],
   "source": [
    "#Operadores lógicos: Podemos combinarlos con los operadores relacionales para crear expresiones más complejas\n",
    "print(8<9 and 8>2)\n",
    "print(8<9 or 1>2)\n",
    "print(not 2<3)"
   ]
  },
  {
   "cell_type": "markdown",
   "metadata": {},
   "source": [
    "## Cadenas de Caracteres\n",
    "\n",
    "Se representan usando comillas dobles (\" \") ó comillas simples (' ').\n",
    "EL interprete de jupyter al imprimir una cadena de caracter la mostrará contenida por defecto entre comillas simple (' ')"
   ]
  },
  {
   "cell_type": "code",
   "execution_count": 8,
   "metadata": {},
   "outputs": [
    {
     "data": {
      "text/plain": [
       "'Soy un string entre comillas dobles'"
      ]
     },
     "execution_count": 8,
     "metadata": {},
     "output_type": "execute_result"
    }
   ],
   "source": [
    "\"Soy un string entre comillas dobles\""
   ]
  },
  {
   "cell_type": "code",
   "execution_count": 9,
   "metadata": {},
   "outputs": [
    {
     "data": {
      "text/plain": [
       "'Soy un string entre comillas simples'"
      ]
     },
     "execution_count": 9,
     "metadata": {},
     "output_type": "execute_result"
    }
   ],
   "source": [
    "\"Soy un string entre comillas simples\""
   ]
  },
  {
   "cell_type": "code",
   "execution_count": 10,
   "metadata": {},
   "outputs": [
    {
     "name": "stdout",
     "output_type": "stream",
     "text": [
      "Soy la primera linea\n",
      "Soy la segunda linea\n",
      "\n",
      "\n",
      "Ejemplo \tCadena después de una tabulación\n"
     ]
    }
   ],
   "source": [
    "#Podemos agregar saltos de linea (\\n) ó tabulaciones (\\t) a una cadena de caracter, sin embargo, para que sea interpretado \n",
    "#de manera correcta debe usarse la función print()\n",
    "\n",
    "print(\"Soy la primera linea\\nSoy la segunda linea\\n\\n\") #Saltos de linea\n",
    "print(\"Ejemplo \\tCadena después de una tabulación\")"
   ]
  },
  {
   "cell_type": "markdown",
   "metadata": {},
   "source": [
    "## Colecciones\n",
    "\n",
    "Son estructuras que nos permiten almacenar datos. Entre las principales y más importantes encontramos:\n",
    "\n",
    "- Listas\n",
    "- Tuplas\n",
    "- Diccionarios\n",
    "- Conjuntos"
   ]
  },
  {
   "cell_type": "markdown",
   "metadata": {},
   "source": [
    "## Listas\n",
    "\n",
    "Son las colecciones más básicas. Presentan las siguiente características:\n",
    "\n",
    "- Definidas entre corchetes cuadrados ([])\n",
    "- Pueden contener diferentes tipos de elementos\n",
    "- Elementos separados por comas (,)\n",
    "- Cada elemento dentro de la lista ocupa una posición representada a través de un índice"
   ]
  },
  {
   "cell_type": "code",
   "execution_count": 11,
   "metadata": {},
   "outputs": [
    {
     "data": {
      "text/plain": [
       "[1, 'Hola', True, 8.5]"
      ]
     },
     "execution_count": 11,
     "metadata": {},
     "output_type": "execute_result"
    }
   ],
   "source": [
    "#Ejemplo lista\n",
    "Lista = [1, \"Hola\", True, 8.5] #La asignamos a una varible para poder trabajar con ella\n",
    "Lista"
   ]
  },
  {
   "cell_type": "code",
   "execution_count": 12,
   "metadata": {},
   "outputs": [
    {
     "data": {
      "text/plain": [
       "1"
      ]
     },
     "execution_count": 12,
     "metadata": {},
     "output_type": "execute_result"
    }
   ],
   "source": [
    "#Podemos seleccionar uno de los elementos si indicamos el índice que representa la posición que ocupa\n",
    "Lista[0] #Seleccionamos el primer elemento de la lista"
   ]
  },
  {
   "cell_type": "code",
   "execution_count": 13,
   "metadata": {},
   "outputs": [
    {
     "data": {
      "text/plain": [
       "[1, 'Hola']"
      ]
     },
     "execution_count": 13,
     "metadata": {},
     "output_type": "execute_result"
    }
   ],
   "source": [
    "#Podem también seleccionar un conjunto de elementos usando Slicing. Con este método definimos un límite inferior y un \n",
    "#límite superior dentro de los cuales estarán todos los elementos que se seleccionarán. La sintaxis es la siguiente:\n",
    "\n",
    "Lista[0:2] #Seleccionamos los elementos desde el primero hasta el tercero pero sin incluir a este último."
   ]
  },
  {
   "cell_type": "code",
   "execution_count": 14,
   "metadata": {},
   "outputs": [
    {
     "name": "stdout",
     "output_type": "stream",
     "text": [
      "[1, 'Hola', True, 8.5]\n"
     ]
    },
    {
     "data": {
      "text/plain": [
       "[4, 'Hola', True, 8.5]"
      ]
     },
     "execution_count": 14,
     "metadata": {},
     "output_type": "execute_result"
    }
   ],
   "source": [
    "#Podemos modificar los elementos contenidos en la lista:\n",
    "print(Lista) #Mostramos la lista original.\n",
    "Lista[0] = 4 #Modificamos el valor del elemento de la lista\n",
    "Lista #Mostramos la lista para visualizar los cambios realizados"
   ]
  },
  {
   "cell_type": "markdown",
   "metadata": {},
   "source": [
    "## Tuplas\n",
    "\n",
    "Sus principales carácterísticas son:\n",
    "\n",
    "- Definidas con y sin paréntesis (). Ambas formas funcionan.\n",
    "- Elementos separados por comas (,) o por espacios\n",
    "- Son INMUTABLES, no podemos modificar una tupla luego se ser creada.\n",
    "- Cada elemento ocupa una posición representada por un índice. "
   ]
  },
  {
   "cell_type": "code",
   "execution_count": 24,
   "metadata": {},
   "outputs": [
    {
     "data": {
      "text/plain": [
       "(1, 'Jaja', False, 8.6)"
      ]
     },
     "execution_count": 24,
     "metadata": {},
     "output_type": "execute_result"
    }
   ],
   "source": [
    "#Ejemplo tupla\n",
    "Tupla1 = (1,\"Jaja\", False, 8.6) #Tupla definida con paréntesis\n",
    "Tupla1"
   ]
  },
  {
   "cell_type": "code",
   "execution_count": 23,
   "metadata": {},
   "outputs": [
    {
     "data": {
      "text/plain": [
       "(1, 2, 3, 4)"
      ]
     },
     "execution_count": 23,
     "metadata": {},
     "output_type": "execute_result"
    }
   ],
   "source": [
    "Tupla2 = 1, 2, 3, 4 #Tupla definida sin paréntesis\n",
    "Tupla2"
   ]
  },
  {
   "cell_type": "code",
   "execution_count": 25,
   "metadata": {},
   "outputs": [
    {
     "data": {
      "text/plain": [
       "False"
      ]
     },
     "execution_count": 25,
     "metadata": {},
     "output_type": "execute_result"
    }
   ],
   "source": [
    "#Podemos seleccionar elementos\n",
    "Tupla1[2] #Seleccionamos el tercer elemento."
   ]
  },
  {
   "cell_type": "code",
   "execution_count": 26,
   "metadata": {},
   "outputs": [
    {
     "ename": "TypeError",
     "evalue": "'tuple' object does not support item assignment",
     "output_type": "error",
     "traceback": [
      "\u001b[0;31m---------------------------------------------------------------------------\u001b[0m",
      "\u001b[0;31mTypeError\u001b[0m                                 Traceback (most recent call last)",
      "\u001b[0;32m<ipython-input-26-dc43360a3099>\u001b[0m in \u001b[0;36m<module>\u001b[0;34m()\u001b[0m\n\u001b[1;32m      1\u001b[0m \u001b[0;31m#Si intentamos modificar una tupla nos dará error\u001b[0m\u001b[0;34m\u001b[0m\u001b[0;34m\u001b[0m\u001b[0m\n\u001b[0;32m----> 2\u001b[0;31m \u001b[0mTupla1\u001b[0m\u001b[0;34m[\u001b[0m\u001b[0;36m1\u001b[0m\u001b[0;34m]\u001b[0m \u001b[0;34m=\u001b[0m \u001b[0;36m45\u001b[0m\u001b[0;34m\u001b[0m\u001b[0m\n\u001b[0m",
      "\u001b[0;31mTypeError\u001b[0m: 'tuple' object does not support item assignment"
     ]
    }
   ],
   "source": [
    "#Si intentamos modificar una tupla nos dará error\n",
    "Tupla1[1] = 45"
   ]
  },
  {
   "cell_type": "code",
   "execution_count": null,
   "metadata": {},
   "outputs": [],
   "source": []
  }
 ],
 "metadata": {
  "kernelspec": {
   "display_name": "Python 3",
   "language": "python",
   "name": "python3"
  },
  "language_info": {
   "codemirror_mode": {
    "name": "ipython",
    "version": 3
   },
   "file_extension": ".py",
   "mimetype": "text/x-python",
   "name": "python",
   "nbconvert_exporter": "python",
   "pygments_lexer": "ipython3",
   "version": "3.6.5"
  }
 },
 "nbformat": 4,
 "nbformat_minor": 2
}
